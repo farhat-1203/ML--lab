{
 "cells": [
  {
   "cell_type": "code",
   "execution_count": 8,
   "id": "8d14a743-7e78-4f20-8982-3f785b6b6eff",
   "metadata": {},
   "outputs": [],
   "source": [
    "# NAME: Farhat Momin\n",
    "# ROLL NO.: 23\n",
    "# UIN: 221P019"
   ]
  },
  {
   "cell_type": "code",
   "execution_count": 1,
   "id": "74d100f4-b53e-4c85-be63-2cbd0caa44cc",
   "metadata": {},
   "outputs": [],
   "source": [
    "# Import necessary libraries\n",
    "import numpy as np\n",
    "from sklearn.datasets import load_digits\n",
    "from sklearn.model_selection import train_test_split\n",
    "from sklearn.linear_model import LogisticRegression\n",
    "from sklearn.metrics import accuracy_score, classification_report\n",
    "from PIL import Image, ImageTk\n",
    "import tkinter as tk\n",
    "from tkinter import filedialog\n",
    "import matplotlib.pyplot as plt"
   ]
  },
  {
   "cell_type": "code",
   "execution_count": 2,
   "id": "2d2c9693-d4ca-4176-9f28-1360dc6ef374",
   "metadata": {},
   "outputs": [
    {
     "name": "stdout",
     "output_type": "stream",
     "text": [
      "Model Training Completed!\n",
      "Accuracy: 0.975\n",
      "Classification Report:\n",
      "               precision    recall  f1-score   support\n",
      "\n",
      "           0       1.00      1.00      1.00        33\n",
      "           1       0.97      1.00      0.98        28\n",
      "           2       1.00      1.00      1.00        33\n",
      "           3       0.97      0.97      0.97        34\n",
      "           4       1.00      0.98      0.99        46\n",
      "           5       0.92      0.96      0.94        47\n",
      "           6       0.97      0.97      0.97        35\n",
      "           7       1.00      0.97      0.99        34\n",
      "           8       0.97      0.97      0.97        30\n",
      "           9       0.97      0.95      0.96        40\n",
      "\n",
      "    accuracy                           0.97       360\n",
      "   macro avg       0.98      0.98      0.98       360\n",
      "weighted avg       0.98      0.97      0.98       360\n",
      "\n"
     ]
    }
   ],
   "source": [
    "# Step 1: Load the digits dataset and train the logistic regression model\n",
    "digits = load_digits()\n",
    "# Prepare the data (flatten images into feature vectors)\n",
    "X = digits.data\n",
    "y = digits.target\n",
    "# Split the data into training and testing sets\n",
    "X_train, X_test, y_train, y_test = train_test_split(X, y, test_size=0.2, random_state=42)\n",
    "# Train the logistic regression model\n",
    "model = LogisticRegression(max_iter=10000)\n",
    "model.fit(X_train, y_train)\n",
    "# Evaluate the model\n",
    "y_pred = model.predict(X_test)\n",
    "print(\"Model Training Completed!\")\n",
    "print(\"Accuracy:\", accuracy_score(y_test, y_pred))\n",
    "print(\"Classification Report:\\n\", classification_report(y_test, y_pred))"
   ]
  },
  {
   "cell_type": "code",
   "execution_count": 3,
   "id": "5b95de42-4361-4588-a990-22cc39a64230",
   "metadata": {},
   "outputs": [],
   "source": [
    "# Step 2: Function to process the input image and predict the digit\n",
    "def predict_digit_from_image(image_path):\n",
    "    \"\"\"\n",
    "    This function takes the path to an image file, processes it, and returns the predicted digit.\n",
    "    :param image_path: str, Path to the image file\n",
    "    :return: int, Predicted digit\n",
    "    \"\"\"\n",
    "    # Load the image and convert it to grayscale\n",
    "    image = Image.open(image_path).convert('L')  # 'L' mode is for grayscale\n",
    "    # Resize the image to 8x8 pixels as the model expects\n",
    "    image = image.resize((8, 8))\n",
    "    # Convert the image to a numpy array and scale pixel values to match the training data\n",
    "    image_array = np.array(image)\n",
    "    # Invert and normalize the image (similar to digits dataset where white is high intensity)\n",
    "    image_array = 16 - (image_array / 16)\n",
    "    # Flatten the image to a 1D array\n",
    "    image_flattened = image_array.reshape(1, -1)\n",
    "    # Predict the digit using the trained model\n",
    "    prediction = model.predict(image_flattened)\n",
    "    return prediction[0]"
   ]
  },
  {
   "cell_type": "code",
   "execution_count": 4,
   "id": "a3b7707a-5f5e-4b35-a753-fb8022850401",
   "metadata": {},
   "outputs": [],
   "source": [
    "# Step 3: Build GUI using Tkinter\n",
    "class DigitRecognitionApp:\n",
    "    def __init__(self, root):\n",
    "        self.root = root\n",
    "        self.root.title(\"Handwritten Digit Recognition\")\n",
    "        self.root.geometry(\"400x400\")\n",
    "        # Label\n",
    "        self.label = tk.Label(self.root, text=\"Upload an image of a digit:\", font=(\"Arial\", 14))\n",
    "        self.label.pack(pady=10)\n",
    "        # Button to upload image\n",
    "        self.upload_button = tk.Button(self.root, text=\"Upload Image\", command=self.upload_image, font=(\"Arial\", 12))\n",
    "        self.upload_button.pack(pady=20)\n",
    "        # Label to display the prediction\n",
    "        self.prediction_label = tk.Label(self.root, text=\"\", font=(\"Arial\", 16))\n",
    "        self.prediction_label.pack(pady=20)\n",
    "        # Canvas to display the uploaded image\n",
    "        self.canvas = tk.Canvas(self.root, width=200, height=200)\n",
    "        self.canvas.pack()\n",
    "    def upload_image(self):\n",
    "        # Open file dialog to select image\n",
    "        file_path = filedialog.askopenfilename(filetypes=[(\"Image files\", \"*.png;*.jpg;*.jpeg\")])\n",
    "        if file_path:\n",
    "            # Load the image\n",
    "            img = Image.open(file_path)\n",
    "            img.thumbnail((200, 200))  # Resize image to fit on the canvas\n",
    "            img_tk = ImageTk.PhotoImage(img)\n",
    "            # Display image on the canvas\n",
    "            self.canvas.create_image(100, 100, image=img_tk)\n",
    "            self.canvas.image = img_tk\n",
    "            # Predict the digit\n",
    "            predicted_digit = predict_digit_from_image(file_path)\n",
    "            # Display the prediction\n",
    "            self.prediction_label.config(text=f\"Predicted Digit: {predicted_digit}\")"
   ]
  },
  {
   "cell_type": "code",
   "execution_count": 7,
   "id": "c6e53071-8138-4d9f-be15-4c68306a89a0",
   "metadata": {},
   "outputs": [],
   "source": [
    "# Step 4: Run the application\n",
    "if __name__ == \"__main__\":\n",
    "    root = tk.Tk()\n",
    "    app = DigitRecognitionApp(root)\n",
    "    root.mainloop()"
   ]
  },
  {
   "cell_type": "code",
   "execution_count": null,
   "id": "ad8ac909-d2f1-4029-947c-285973e7ae31",
   "metadata": {},
   "outputs": [],
   "source": []
  }
 ],
 "metadata": {
  "kernelspec": {
   "display_name": "Python 3 (ipykernel)",
   "language": "python",
   "name": "python3"
  },
  "language_info": {
   "codemirror_mode": {
    "name": "ipython",
    "version": 3
   },
   "file_extension": ".py",
   "mimetype": "text/x-python",
   "name": "python",
   "nbconvert_exporter": "python",
   "pygments_lexer": "ipython3",
   "version": "3.10.0"
  }
 },
 "nbformat": 4,
 "nbformat_minor": 5
}

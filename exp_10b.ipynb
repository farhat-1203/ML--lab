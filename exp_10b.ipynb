{
 "cells": [
  {
   "cell_type": "code",
   "execution_count": 7,
   "id": "00b8ee0b-a9b7-4020-943e-83b1bff33041",
   "metadata": {},
   "outputs": [],
   "source": [
    "# NAME: Farhat Momin\n",
    "# ROLL NO.: 23\n",
    "# UIN: 221P019"
   ]
  },
  {
   "cell_type": "code",
   "execution_count": 8,
   "id": "10412268-a291-4ddd-a68b-2f5d2e939106",
   "metadata": {},
   "outputs": [
    {
     "name": "stdout",
     "output_type": "stream",
     "text": [
      "First few rows of the dataset:\n",
      "      crim    zn  indus  chas    nox     rm   age     dis  rad  tax  ptratio  \\\n",
      "0  0.00632  18.0   2.31     0  0.538  6.575  65.2  4.0900    1  296     15.3   \n",
      "1  0.02731   0.0   7.07     0  0.469  6.421  78.9  4.9671    2  242     17.8   \n",
      "2  0.02729   0.0   7.07     0  0.469  7.185  61.1  4.9671    2  242     17.8   \n",
      "3  0.03237   0.0   2.18     0  0.458  6.998  45.8  6.0622    3  222     18.7   \n",
      "4  0.06905   0.0   2.18     0  0.458  7.147  54.2  6.0622    3  222     18.7   \n",
      "\n",
      "        b  lstat  medv  \n",
      "0  396.90   4.98  24.0  \n",
      "1  396.90   9.14  21.6  \n",
      "2  392.83   4.03  34.7  \n",
      "3  394.63   2.94  33.4  \n",
      "4  396.90   5.33  36.2  \n",
      "0:\tlearn: 8.7281973\ttotal: 7.1ms\tremaining: 7.09s\n",
      "100:\tlearn: 1.8117247\ttotal: 647ms\tremaining: 5.76s\n",
      "200:\tlearn: 1.0137452\ttotal: 1.28s\tremaining: 5.1s\n",
      "300:\tlearn: 0.6594916\ttotal: 1.93s\tremaining: 4.47s\n",
      "400:\tlearn: 0.4489127\ttotal: 2.58s\tremaining: 3.86s\n",
      "500:\tlearn: 0.3171942\ttotal: 3.25s\tremaining: 3.24s\n",
      "600:\tlearn: 0.2275363\ttotal: 3.9s\tremaining: 2.59s\n",
      "700:\tlearn: 0.1665685\ttotal: 4.51s\tremaining: 1.93s\n",
      "800:\tlearn: 0.1213108\ttotal: 5.14s\tremaining: 1.28s\n",
      "900:\tlearn: 0.0929088\ttotal: 5.79s\tremaining: 637ms\n",
      "999:\tlearn: 0.0679650\ttotal: 6.49s\tremaining: 0us\n",
      "\n",
      "Mean Absolute Error of the CatBoost model: 1.89\n",
      "\n",
      "Feature Importance:\n",
      "   Feature Id  Importances\n",
      "0          rm    32.812723\n",
      "1       lstat    26.689388\n",
      "2     ptratio     6.401536\n",
      "3         dis     6.211808\n",
      "4        crim     5.108273\n",
      "5         nox     4.402625\n",
      "6         age     4.141991\n",
      "7         tax     3.988592\n",
      "8           b     3.258458\n",
      "9       indus     2.039908\n",
      "10        rad     1.977327\n",
      "11       chas     1.809261\n",
      "12         zn     1.158109\n"
     ]
    }
   ],
   "source": [
    "# Step 1: Install CatBoost if not already installed\n",
    "# Uncomment the line below if you're using Google Colab\n",
    "# !pip install catboost # Install the catboost package\n",
    "# Step 2: Import necessary libraries\n",
    "import pandas as pd\n",
    "from sklearn.model_selection import train_test_split\n",
    "from sklearn.metrics import mean_absolute_error\n",
    "from catboost import CatBoostRegressor\n",
    "# Step 3: Load a house prices dataset\n",
    "# For this example, we'll use a simplified dataset\n",
    "data_url = 'https://raw.githubusercontent.com/selva86/datasets/master/BostonHousing.csv'\n",
    "df = pd.read_csv(data_url)\n",
    "# Display the first few rows of the dataset\n",
    "print(\"First few rows of the dataset:\")\n",
    "print(df.head())\n",
    "# Step 4: Preprocess the data\n",
    "X = df.drop(['medv'], axis=1)#'medv'is the median value of owner-occupied homes (target)\n",
    "y = df['medv']\n",
    "# Split the data into training and testing sets\n",
    "X_train, X_test, y_train, y_test = train_test_split(X, y, test_size=0.2, random_state=42)\n",
    "# Step 5: Initialize the CatBoostRegressor\n",
    "catboost_model = CatBoostRegressor(iterations=1000, learning_rate=0.1, depth=6, verbose=100)\n",
    "# Step 6: Train the model\n",
    "catboost_model.fit(X_train, y_train)\n",
    "# Step 7: Make predictions\n",
    "y_pred = catboost_model.predict(X_test)\n",
    "# Step 8: Evaluate the model\n",
    "mae = mean_absolute_error(y_test, y_pred)\n",
    "print(f\"\\nMean Absolute Error of the CatBoost model: {mae:.2f}\")\n",
    "# Optional: Feature Importance Plot\n",
    "feature_importances = catboost_model.get_feature_importance(prettified=True)\n",
    "print(\"\\nFeature Importance:\")\n",
    "print(feature_importances)\n"
   ]
  },
  {
   "cell_type": "code",
   "execution_count": null,
   "id": "8019d1ed-c6a3-4afd-a7fa-3dc050901966",
   "metadata": {},
   "outputs": [],
   "source": []
  }
 ],
 "metadata": {
  "kernelspec": {
   "display_name": "Python 3 (ipykernel)",
   "language": "python",
   "name": "python3"
  },
  "language_info": {
   "codemirror_mode": {
    "name": "ipython",
    "version": 3
   },
   "file_extension": ".py",
   "mimetype": "text/x-python",
   "name": "python",
   "nbconvert_exporter": "python",
   "pygments_lexer": "ipython3",
   "version": "3.10.0"
  }
 },
 "nbformat": 4,
 "nbformat_minor": 5
}

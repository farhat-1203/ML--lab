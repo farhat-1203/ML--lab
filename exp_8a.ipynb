{
 "cells": [
  {
   "cell_type": "code",
   "execution_count": 1,
   "id": "4d5e9113-dd85-4f5a-a1b2-16287902df61",
   "metadata": {},
   "outputs": [],
   "source": [
    "# NAME: Isha Shaikh\n",
    "# ROLL NO.: 36\n",
    "# UIN: 232P002"
   ]
  },
  {
   "cell_type": "code",
   "execution_count": 8,
   "id": "a7ce4e87-e69c-440f-8d16-13fdb79cf9c4",
   "metadata": {},
   "outputs": [],
   "source": [
    "import pandas as pd\n",
    "from tkinter import *\n",
    "import matplotlib.pyplot as plt\n",
    "from matplotlib.backends.backend_tkagg import FigureCanvasTkAgg\n",
    "from sklearn.cluster import KMeans\n",
    "\n",
    "# Load and prepare the data for clustering\n",
    "df = pd.read_csv(\"Mall_Customers.csv\")\n",
    "x = df[['Annual Income (k$)', 'Spending Score (1-100)']]\n",
    "k_mean = KMeans(n_clusters=5, random_state=42)\n",
    "y_mean = k_mean.fit_predict(x)\n",
    "\n",
    "# Function to show the entry fields and predict the cluster\n",
    "def show_entry_fields():\n",
    "    p1 = float(e1.get())\n",
    "    p2 = float(e2.get())\n",
    "    result = k_mean.predict([[p1, p2]])\n",
    "    print(\"This customer belongs to cluster no:\", result[0])\n",
    "    \n",
    "    cluster_info = {\n",
    "        0: \"Customer with medium annual income & medium spending score\",\n",
    "        1: \"Customer with high annual income & low spending score\",\n",
    "        2: \"Customer with low annual income & low spending score\",\n",
    "        3: \"Customer with low annual income & high spending score\",\n",
    "        4: \"Customer with high annual income & high spending score\"\n",
    "    }\n",
    "    \n",
    "    # Clear previous result labels if any\n",
    "    for widget in master.grid_slaves():\n",
    "        if int(widget.grid_info()[\"row\"]) >= 4:  # Assuming info labels start from row 4\n",
    "            widget.destroy()\n",
    "    \n",
    "    Label(master, text=cluster_info[result[0]]).grid(row=4)\n",
    "\n",
    "# Create the main application window\n",
    "master = Tk()\n",
    "master.title(\"Segmentation using Machine Learning\")\n",
    "Label(master, text=\"Customer Segmentation using Machine Learning\", bg=\"Yellow\", fg=\"black\").grid(row=0, columnspan=2)\n",
    "\n",
    "# Input labels and entries\n",
    "Label(master, text=\"Annual Income (k$)\").grid(row=1)\n",
    "Label(master, text=\"Spending Score (1-100)\").grid(row=2)\n",
    "e1 = Entry(master)\n",
    "e2 = Entry(master)\n",
    "e1.grid(row=1, column=1)\n",
    "e2.grid(row=2, column=1)\n",
    "Button(master, text='Predict', command=show_entry_fields).grid(row=3)\n",
    "\n",
    "# Plotting the clusters\n",
    "figure = plt.Figure(figsize=(5, 4), dpi=100)\n",
    "ax = figure.add_subplot(111)\n",
    "for i in range(5):  # Since n_clusters=5\n",
    "    ax.scatter(x.iloc[y_mean == i, 0], x.iloc[y_mean == i, 1], s=100, label=f'Cluster {i}')\n",
    "ax.set_xlabel('Annual Income (k$)')\n",
    "ax.set_ylabel('Spending Score (1-100)')\n",
    "ax.set_title('Annual Income vs Spending Score')\n",
    "ax.legend()\n",
    "\n",
    "# Adding the plot to the Tkinter window\n",
    "scatter = FigureCanvasTkAgg(figure, master)\n",
    "scatter.get_tk_widget().grid(row=5, columnspan=2)\n",
    "\n",
    "# Start the Tkinter main loop\n",
    "master.mainloop()\n"
   ]
  },
  {
   "cell_type": "code",
   "execution_count": null,
   "id": "6a966e89-8ffc-4439-9c10-e82773b30de1",
   "metadata": {},
   "outputs": [],
   "source": []
  }
 ],
 "metadata": {
  "kernelspec": {
   "display_name": "Python 3 (ipykernel)",
   "language": "python",
   "name": "python3"
  },
  "language_info": {
   "codemirror_mode": {
    "name": "ipython",
    "version": 3
   },
   "file_extension": ".py",
   "mimetype": "text/x-python",
   "name": "python",
   "nbconvert_exporter": "python",
   "pygments_lexer": "ipython3",
   "version": "3.10.0"
  }
 },
 "nbformat": 4,
 "nbformat_minor": 5
}

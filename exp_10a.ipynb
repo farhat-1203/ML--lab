{
 "cells": [
  {
   "cell_type": "code",
   "execution_count": 10,
   "id": "9af86dd7-ad7d-43d8-b798-29b2505de0c4",
   "metadata": {},
   "outputs": [],
   "source": [
    "# NAME: Farhat Momin\n",
    "# ROLL NO.: 23\n",
    "# UIN: 221P019"
   ]
  },
  {
   "cell_type": "code",
   "execution_count": 11,
   "id": "98dc2f6d-ccb8-4923-9257-85307e92f22b",
   "metadata": {},
   "outputs": [
    {
     "name": "stdout",
     "output_type": "stream",
     "text": [
      "Requirement already satisfied: xgboost in c:\\users\\farhat momin\\appdata\\local\\programs\\python\\python310\\lib\\site-packages (3.0.5)\n",
      "Requirement already satisfied: numpy in c:\\users\\farhat momin\\appdata\\local\\programs\\python\\python310\\lib\\site-packages (from xgboost) (2.2.6)\n",
      "Requirement already satisfied: scipy in c:\\users\\farhat momin\\appdata\\local\\programs\\python\\python310\\lib\\site-packages (from xgboost) (1.15.3)\n"
     ]
    },
    {
     "name": "stderr",
     "output_type": "stream",
     "text": [
      "WARNING: You are using pip version 21.2.3; however, version 25.2 is available.\n",
      "You should consider upgrading via the 'C:\\Users\\Farhat Momin\\AppData\\Local\\Programs\\Python\\Python310\\python.exe -m pip install --upgrade pip' command.\n"
     ]
    }
   ],
   "source": [
    "!pip install xgboost"
   ]
  },
  {
   "cell_type": "code",
   "execution_count": 12,
   "id": "0147d3f3-ccba-41b6-8c4e-dd8e3d4033c9",
   "metadata": {},
   "outputs": [
    {
     "name": "stderr",
     "output_type": "stream",
     "text": [
      "C:\\Users\\Farhat Momin\\AppData\\Local\\Programs\\Python\\Python310\\lib\\site-packages\\xgboost\\training.py:183: UserWarning: [08:50:01] WARNING: C:\\actions-runner\\_work\\xgboost\\xgboost\\src\\learner.cc:738: \n",
      "Parameters: { \"use_label_encoder\" } are not used.\n",
      "\n",
      "  bst.update(dtrain, iteration=i, fobj=obj)\n"
     ]
    },
    {
     "name": "stdout",
     "output_type": "stream",
     "text": [
      "\n",
      "Accuracy of XGBoost model: 100.00%\n",
      "Classification Report by Isha Shaikh:\n",
      "              precision    recall  f1-score   support\n",
      "\n",
      "      setosa       1.00      1.00      1.00        10\n",
      "  versicolor       1.00      1.00      1.00         9\n",
      "   virginica       1.00      1.00      1.00        11\n",
      "\n",
      "    accuracy                           1.00        30\n",
      "   macro avg       1.00      1.00      1.00        30\n",
      "weighted avg       1.00      1.00      1.00        30\n",
      "\n"
     ]
    },
    {
     "data": {
      "image/png": "[encoded data removed]",
      "text/plain": [
       "<Figure size 640x480 with 1 Axes>"
      ]
     },
     "metadata": {},
     "output_type": "display_data"
    }
   ],
   "source": [
    "# Step 1: Install XGBoost if not already installed\n",
    "# You may need to run this in Google Colab\n",
    "# !pip install xgboost\n",
    "# Step 2: Import the necessary libraries\n",
    "import numpy as np\n",
    "import pandas as pd\n",
    "from sklearn.datasets import load_iris\n",
    "from sklearn.model_selection import train_test_split\n",
    "from sklearn.metrics import accuracy_score, classification_report\n",
    "import xgboost as xgb\n",
    "# Import matplotlib.pyplot\n",
    "import matplotlib.pyplot as plt # This line is added to import the pyplot module\n",
    "# Step 3: Load the Iris dataset\n",
    "iris = load_iris()\n",
    "X = iris.data\n",
    "y = iris.target\n",
    "# Step 4: Split the dataset into training and testing sets\n",
    "X_train, X_test, y_train, y_test = train_test_split(X, y, test_size=0.2, random_state=42)\n",
    "# Step 5: Create the XGBoost model\n",
    "xgb_model = xgb.XGBClassifier(use_label_encoder=False, eval_metric='mlogloss')\n",
    "# Step 6: Train the model\n",
    "xgb_model.fit(X_train, y_train)\n",
    "# Step 7: Make predictions\n",
    "y_pred = xgb_model.predict(X_test)\n",
    "# Step 8: Evaluate the model\n",
    "accuracy = accuracy_score(y_test, y_pred)\n",
    "print(f\"\\nAccuracy of XGBoost model: {accuracy * 100:.2f}%\")\n",
    "print(\"Classification Report by Isha Shaikh:\")\n",
    "print(classification_report(y_test, y_pred, target_names=iris.target_names))\n",
    "# Step 9: Feature Importance Plot\n",
    "xgb.plot_importance(xgb_model)\n",
    "plt.title('Feature Importance of XGBoost Model by Isha Shaikh') # plt is now defined and can be used\n",
    "plt.show()\n"
   ]
  },
  {
   "cell_type": "code",
   "execution_count": null,
   "id": "24e0ccac-38f8-4f48-aebc-f1bdf97dacf1",
   "metadata": {},
   "outputs": [],
   "source": []
  }
 ],
 "metadata": {
  "kernelspec": {
   "display_name": "Python 3 (ipykernel)",
   "language": "python",
   "name": "python3"
  },
  "language_info": {
   "codemirror_mode": {
    "name": "ipython",
    "version": 3
   },
   "file_extension": ".py",
   "mimetype": "text/x-python",
   "name": "python",
   "nbconvert_exporter": "python",
   "pygments_lexer": "ipython3",
   "version": "3.10.0"
  }
 },
 "nbformat": 4,
 "nbformat_minor": 5
}

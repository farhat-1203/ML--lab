{
 "cells": [
  {
   "cell_type": "code",
   "execution_count": null,
   "id": "79f8ab4d-dc2c-40bb-a541-4cf95fbbb1a5",
   "metadata": {},
   "outputs": [],
   "source": [
    "# NAME: Farhat Momin\n",
    "# ROLL NO.: 23  \n",
    "# UIN: 221P019"
   ]
  },
  {
   "cell_type": "code",
   "execution_count": 18,
   "id": "3ec01bb1-63da-4468-8e54-3700c109e13a",
   "metadata": {},
   "outputs": [
    {
     "name": "stdout",
     "output_type": "stream",
     "text": [
      "Original List = [1, 2, 3, 4, 5, 6, 7, 12]\n",
      "Squares = [1, 4, 9, 16, 25, 36, 49, 144]\n"
     ]
    }
   ],
   "source": [
    "# Aim :- Given a list of numbers write a program to turn every item of a list into its square.\n",
    "\n",
    "num_list = [1,2,3,4, 5, 6, 7, 12]\n",
    "squared_list = [num**2 for num in num_list]\n",
    "print(f'Original List = {num_list}')\n",
    "print(f'Squares = {squared_list}')"
   ]
  },
  {
   "cell_type": "code",
   "execution_count": 19,
   "id": "3253a4b6-1a86-420e-8eee-c325d3729a7c",
   "metadata": {},
   "outputs": [
    {
     "name": "stdout",
     "output_type": "stream",
     "text": [
      "list 1 = [1, 2, 3, 4, 5, 6, 7, 8, 9, 14]\n",
      "list 2 = [5, 6, 7, 8, 9, 10, 11, 12, 13, 14]\n",
      "Sorted Common elements in 2 lists: [5, 6, 7, 8, 9, 14]\n"
     ]
    }
   ],
   "source": [
    "# Aim : Given two lists of integers, Find the common elements between them and return them in a sorted\n",
    "# list without duplicates. (Use Function)\n",
    "\n",
    "list1 = [1, 2, 3, 4, 5, 6, 7, 8, 9, 14]\n",
    "list2 = [5, 6, 7, 8, 9, 10, 11, 12, 13, 14]\n",
    "# covert to sets\n",
    "set1,set2 = set(list1), set(list2)\n",
    "# get intersection\n",
    "common_elements = set1 & set2\n",
    "# print result\n",
    "print(f'list 1 = {list1}')\n",
    "print(f'list 2 = {list2}')\n",
    "print(f'Sorted Common elements in 2 lists: {sorted(list(common_elements))}')"
   ]
  },
  {
   "cell_type": "code",
   "execution_count": 20,
   "id": "5164bcf5-4b80-471e-bbcf-8de1a658e778",
   "metadata": {},
   "outputs": [
    {
     "name": "stdout",
     "output_type": "stream",
     "text": [
      "Input : [('Alice', 88), ('Bob', 75), ('Charlie', 88), ('David', 93), ('Eve', 75), ('Aditya Mishra', 90)]\n",
      "Sorted Scores:\n",
      "[('David', 93), ('Aditya Mishra', 90), ('Alice', 88), ('Charlie', 88), ('Bob', 75), ('Eve', 75)]\n"
     ]
    }
   ],
   "source": [
    "# Aim :- Write a function that takes a list of tuples, \n",
    "# where each tuple contains a student's name and their score. \n",
    "# The function should return a list of tuples sorted in descending order of scores.\n",
    "#  If two students have the same score, they should be sorted alphabetically by their names.\n",
    "\n",
    "students = [(\"Alice\",88),(\"Bob\", 75),(\"Charlie\",88),(\"David\",93),(\"Eve\", 75), (\"Aditya Mishra\", 90)]\n",
    "print(\"Input :\",students )\n",
    "# sort students based on score and names\n",
    "print('Sorted Scores:')\n",
    "students.sort(key = lambda student : (-student[1], student[0]))\n",
    "print(students)"
   ]
  },
  {
   "cell_type": "code",
   "execution_count": 21,
   "id": "b2e15590-041a-40b6-af4a-47c5e0f9ebe0",
   "metadata": {},
   "outputs": [
    {
     "name": "stdout",
     "output_type": "stream",
     "text": [
      "Input : {'Alice': 88, 'Bob': 75, 'Charlie': 88, 'Funsuk': 93, 'Eve': 93, 'Farhat Momin': 93}\n",
      "Students with highest score:\n",
      "Highest Score : 93\n",
      "Student Names : ['Funsuk', 'Eve', 'Farhat Momin']\n"
     ]
    }
   ],
   "source": [
    "# Aim :- Write a function that takes a dictionary where keys are student names and\n",
    "# values are their scores. The function should return list of student names who have highest score.\n",
    "# if multiple students have highest scores return all names\n",
    "\n",
    "student_scores = {\"Alice\": 88, \"Bob\":75, \"Charlie\":88, \"Funsuk\": 93, \"Eve\":93, \"Farhat Momin\":93}\n",
    "highest_score = max(student_scores.values())\n",
    "toppers = [name for name, score in student_scores.items() if score == highest_score]\n",
    "print('Input :',student_scores)\n",
    "print('Students with highest score:')\n",
    "print(f'Highest Score : {highest_score}')\n",
    "print(f'Student Names : {toppers}')"
   ]
  },
  {
   "cell_type": "code",
   "execution_count": null,
   "id": "5e5b366e-0774-48d9-977b-296f84e70dd5",
   "metadata": {},
   "outputs": [],
   "source": []
  }
 ],
 "metadata": {
  "kernelspec": {
   "display_name": "Python 3 (ipykernel)",
   "language": "python",
   "name": "python3"
  },
  "language_info": {
   "codemirror_mode": {
    "name": "ipython",
    "version": 3
   },
   "file_extension": ".py",
   "mimetype": "text/x-python",
   "name": "python",
   "nbconvert_exporter": "python",
   "pygments_lexer": "ipython3",
   "version": "3.10.0"
  }
 },
 "nbformat": 4,
 "nbformat_minor": 5
}
